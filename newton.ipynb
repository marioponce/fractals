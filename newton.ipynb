{
 "cells": [
  {
   "cell_type": "code",
   "execution_count": 1,
   "metadata": {},
   "outputs": [],
   "source": [
    "import numpy as np\n",
    "import matplotlib.pyplot as plt\n",
    "from matplotlib.animation import FuncAnimation\n",
    "from numba import njit"
   ]
  },
  {
   "cell_type": "code",
   "execution_count": 31,
   "metadata": {},
   "outputs": [],
   "source": [
    "class Newton:\n",
    "    def __init__(self, pars: dict) -> None:\n",
    "        try:\n",
    "            self.max_iter = pars[\"max_iter\"]\n",
    "        except:\n",
    "            self.max_iter = 1\n",
    "        try:\n",
    "            self.res = pars[\"res\"]\n",
    "        except:\n",
    "            self.res = [10, 10]\n",
    "        try:\n",
    "            self.r_lim = pars[\"r_lim\"]\n",
    "        except:\n",
    "            self.r_lim = [-1, 1]\n",
    "        try:\n",
    "            self.j_lim = pars[\"j_lim\"]\n",
    "        except:\n",
    "            self.j_lim = [-1, 1]\n",
    "        # try:\n",
    "        if pars[\"func\"] == \"cos\":\n",
    "            self.func = self.build_cos(pars[\"coefs\"])\n",
    "        elif pars[\"func\"] == \"sin\":\n",
    "            self.func = self.build_sin(pars[\"coefs\"])\n",
    "        elif pars[\"func\"] == \"exp\":\n",
    "            self.func = self.build_exp(pars[\"coefs\"])\n",
    "        else:\n",
    "            self.func = self.build_pol(pars[\"coefs\"])\n",
    "        # except:\n",
    "        #     print(\"HEY\")\n",
    "        #     self.func = self.build_pol([1,1,1])\n",
    "        try:\n",
    "            self.col = pars[\"col\"]\n",
    "        except:\n",
    "            self.col =\"jet\"\n",
    "        self.tol = 1e-6\n",
    "\n",
    "        self.z = np.array([[complex(r,i) for r in np.linspace(self.r_lim[0],self.r_lim[1],self.res[0])] for i in np.linspace(self.j_lim[0],self.j_lim[1],self.res[1])],\n",
    "                          dtype = np.complex64)\n",
    "\n",
    "        self.z_ = self.z.copy()\n",
    "\n",
    "    def build_pol(self, coefs):\n",
    "        def pol(x):\n",
    "            fx = sum([coefs[i] * x**i for i in range(len(coefs))])\n",
    "            fxdx = sum([coefs[i] * x**(i-1) * i for i in range(1, len(coefs))])\n",
    "            return x-fx/fxdx\n",
    "        return pol\n",
    "\n",
    "    def build_cos(self, coefs):\n",
    "        def cos_(x):\n",
    "            fx = coefs[0] + coefs[1] * np.cos( coefs[2] * x )\n",
    "            fxdx = -coefs[1]*coefs[2]*np.sin( coefs[2] * x )\n",
    "            return x-fx/fxdx\n",
    "        return cos_\n",
    "\n",
    "    def build_sin(self, coefs):\n",
    "        def sin_(x):\n",
    "            fx = coefs[0] * np.sin( coefs[1] * x )\n",
    "            fxdx = coefs[0]*coefs[1]*np.cos( coefs[1] * x )\n",
    "            return x-fx/fxdx\n",
    "        return sin_\n",
    "\n",
    "    def build_exp(self, coefs):\n",
    "        def exp_(x):\n",
    "            fx = coefs[0] * np.exp( coefs[1] * x )\n",
    "            fxdx = coefs[0]*coefs[1]*np.exp( coefs[1] * x )\n",
    "            return x-fx/fxdx\n",
    "        return exp_\n",
    "\n",
    "    def do_iter(self) -> None:\n",
    "        i = 1\n",
    "        self.z = self.func( self.z )\n",
    "        diff = np.abs(self.z - self.z_)\n",
    "\n",
    "        while np.nanmean(diff) > self.tol and i < self.max_iter:\n",
    "            self.z_ = self.z.copy()\n",
    "            self.z[diff > self.tol] = self.func( self.z[diff > self.tol] )\n",
    "            diff = np.abs(self.z - self.z_)\n",
    "            i+=1\n",
    "        print(i, np.nanmean(np.abs(self.z - self.z_)))\n",
    "    def do_plot(self) -> None:\n",
    "        fig1, (ax) = plt.subplots(1, 1)\n",
    "        cax= ax.imshow(np.abs(self.z),\n",
    "                  extent=(self.r_lim[0], self.r_lim[1],self.j_lim[0], self.j_lim[1]),\n",
    "                  cmap = self.col)\n",
    "        fig1.colorbar(cax)\n",
    "        plt.show()"
   ]
  },
  {
   "cell_type": "code",
   "execution_count": 38,
   "metadata": {},
   "outputs": [
    {
     "name": "stdout",
     "output_type": "stream",
     "text": [
      "26 5.304349e-07\n"
     ]
    },
    {
     "data": {
      "image/png": "[encoded data removed]",
      "text/plain": [
       "<Figure size 640x480 with 2 Axes>"
      ]
     },
     "metadata": {},
     "output_type": "display_data"
    }
   ],
   "source": [
    "pars ={\n",
    "        \"coefs\" : [0.1, 1, -0.1,-1],\n",
    "        \"func\": \"pol\",\n",
    "        \"res\" : [1000, 1000],\n",
    "        \"r_lim\" : [-2.5, 2.5],\n",
    "        \"j_lim\" : [-2.5, 2.5],\n",
    "        \"col\" : \"jet\",\n",
    "        \"max_iter\": 100,\n",
    "    }\n",
    "\n",
    "ns = Newton(pars)\n",
    "ns.do_iter()\n",
    "ns.do_plot()"
   ]
  },
  {
   "cell_type": "code",
   "execution_count": null,
   "metadata": {},
   "outputs": [],
   "source": []
  },
  {
   "cell_type": "code",
   "execution_count": null,
   "metadata": {},
   "outputs": [],
   "source": []
  }
 ],
 "metadata": {
  "kernelspec": {
   "display_name": "base",
   "language": "python",
   "name": "python3"
  },
  "language_info": {
   "codemirror_mode": {
    "name": "ipython",
    "version": 3
   },
   "file_extension": ".py",
   "mimetype": "text/x-python",
   "name": "python",
   "nbconvert_exporter": "python",
   "pygments_lexer": "ipython3",
   "version": "3.11.7"
  }
 },
 "nbformat": 4,
 "nbformat_minor": 2
}
